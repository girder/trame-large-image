{
 "cells": [
  {
   "cell_type": "code",
   "execution_count": null,
   "id": "d2589707",
   "metadata": {},
   "outputs": [],
   "source": [
    "from large_image_trame.app import Engine"
   ]
  },
  {
   "cell_type": "code",
   "execution_count": null,
   "id": "98d42b44",
   "metadata": {},
   "outputs": [],
   "source": [
    "cone_app = Engine()\n",
    "cone_app.show_in_jupyter(height=600)"
   ]
  }
 ],
 "metadata": {
  "kernelspec": {
   "display_name": ".venv",
   "language": "python",
   "name": "python3"
  },
  "language_info": {
   "codemirror_mode": {
    "name": "ipython",
    "version": 3
   },
   "file_extension": ".py",
   "mimetype": "text/x-python",
   "name": "python",
   "nbconvert_exporter": "python",
   "pygments_lexer": "ipython3",
   "version": "3.9.9"
  },
  "vscode": {
   "interpreter": {
    "hash": "077b396a86bc6b27a58ed1155668631492bc59fe85a729995524234d32fbc2c2"
   }
  }
 },
 "nbformat": 4,
 "nbformat_minor": 5
}
